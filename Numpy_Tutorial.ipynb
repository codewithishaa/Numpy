{
 "cells": [
  {
   "cell_type": "markdown",
   "id": "ba2b1d04",
   "metadata": {},
   "source": [
    "## Numpy_Basics by Isha"
   ]
  },
  {
   "cell_type": "markdown",
   "id": "1d73864d",
   "metadata": {},
   "source": [
    "## Importing NumPy"
   ]
  },
  {
   "cell_type": "code",
   "execution_count": 11,
   "id": "3388dd5c",
   "metadata": {},
   "outputs": [],
   "source": [
    "import numpy as np  # Standard import"
   ]
  },
  {
   "cell_type": "markdown",
   "id": "78bf71a8",
   "metadata": {},
   "source": [
    "## Creating NumPy Arrays"
   ]
  },
  {
   "cell_type": "code",
   "execution_count": 20,
   "id": "0724acf5",
   "metadata": {},
   "outputs": [
    {
     "name": "stdout",
     "output_type": "stream",
     "text": [
      "Array from list: [1 2 3]\n",
      "2D Array: [[1 2]\n",
      " [3 4]]\n",
      "Zeros: [[0. 0. 0.]\n",
      " [0. 0. 0.]]\n",
      "Ones: [[1. 1. 1.]\n",
      " [1. 1. 1.]]\n",
      "Full: [[7 7 7]\n",
      " [7 7 7]]\n",
      "Arange: [0 2 4 6 8]\n",
      "Linspace: [0.   0.25 0.5  0.75 1.  ]\n"
     ]
    }
   ],
   "source": [
    "# From list\n",
    "arr1 = np.array([1, 2, 3])\n",
    "print(\"Array from list:\", arr1)\n",
    "\n",
    "# 2D array\n",
    "arr2 = np.array([[1, 2], [3, 4]])\n",
    "print(\"2D Array:\", arr2)\n",
    "\n",
    "# Zeros, Ones, Full, Arange, Linspace\n",
    "print(\"Zeros:\", np.zeros((2, 3)))\n",
    "print(\"Ones:\", np.ones((2, 3)))\n",
    "print(\"Full:\", np.full((2, 3), 7))\n",
    "print(\"Arange:\", np.arange(0, 10, 2))\n",
    "print(\"Linspace:\", np.linspace(0, 1, 5))"
   ]
  },
  {
   "cell_type": "markdown",
   "id": "6428dc32",
   "metadata": {},
   "source": [
    "## Array Attributes"
   ]
  },
  {
   "cell_type": "code",
   "execution_count": 29,
   "id": "c54a894e",
   "metadata": {},
   "outputs": [
    {
     "name": "stdout",
     "output_type": "stream",
     "text": [
      "Shape: (2, 3)\n",
      "Dimensions: 2\n",
      "Data type: int32\n",
      "Item size: 4\n"
     ]
    }
   ],
   "source": [
    "# Create a 2D NumPy array (a matrix with 2 rows and 3 columns)\n",
    "a = np.array([[1, 2, 3], [4, 5, 6]])\n",
    "\n",
    "# Print the shape of the array\n",
    "# Output: (2, 3) → 2 rows and 3 columns\n",
    "print(\"Shape:\", a.shape)\n",
    "\n",
    "# Print the number of dimensions\n",
    "# Output: 2 → because this is a 2D array (like a table)\n",
    "print(\"Dimensions:\", a.ndim)\n",
    "\n",
    "# Print the data type of the elements in the array\n",
    "# Output: dtype('int64') or similar → means each element is an integer\n",
    "print(\"Data type:\", a.dtype)\n",
    "\n",
    "# Print the size (in bytes) of each element in the array\n",
    "# For example, if dtype is int64, itemsize will be 8 (bytes)\n",
    "print(\"Item size:\", a.itemsize)\n"
   ]
  },
  {
   "cell_type": "markdown",
   "id": "27cc7735",
   "metadata": {},
   "source": [
    "## Indexing and Slicing"
   ]
  },
  {
   "cell_type": "code",
   "execution_count": 30,
   "id": "27fa1617",
   "metadata": {},
   "outputs": [
    {
     "name": "stdout",
     "output_type": "stream",
     "text": [
      "Element at (0,1): 20\n",
      "First row: [10 20 30]\n",
      "First column: [10 40]\n"
     ]
    }
   ],
   "source": [
    "# Create a 2D NumPy array with 2 rows and 3 columns\n",
    "a = np.array([[10, 20, 30], \n",
    "              [40, 50, 60]])\n",
    "\n",
    "# Access and print the element at row 0, column 1\n",
    "# Row 0 → [10, 20, 30], so a[0, 1] = 20\n",
    "print(\"Element at (0,1):\", a[0, 1])\n",
    "\n",
    "# Print the entire first row of the array\n",
    "# a[0] gives [10, 20, 30]\n",
    "print(\"First row:\", a[0])\n",
    "\n",
    "# Print the first column (all rows, column index 0)\n",
    "# a[:, 0] → [10, 40]\n",
    "print(\"First column:\", a[:, 0])\n"
   ]
  },
  {
   "cell_type": "markdown",
   "id": "18c4290f",
   "metadata": {},
   "source": [
    "## Mathematical Operations"
   ]
  },
  {
   "cell_type": "code",
   "execution_count": 31,
   "id": "4e55ea20",
   "metadata": {},
   "outputs": [
    {
     "name": "stdout",
     "output_type": "stream",
     "text": [
      "Addition: [5 7 9]\n",
      "Multiplication: [ 4 10 18]\n",
      "Sine: [0.84147098 0.90929743 0.14112001]\n",
      "Log: [0.         0.69314718 1.09861229]\n"
     ]
    }
   ],
   "source": [
    "# Create two 1D NumPy arrays of equal length\n",
    "a = np.array([1, 2, 3])\n",
    "b = np.array([4, 5, 6])\n",
    "\n",
    "# Element-wise addition: [1+4, 2+5, 3+6] → [5, 7, 9]\n",
    "print(\"Addition:\", a + b)\n",
    "\n",
    "# Element-wise multiplication: [1*4, 2*5, 3*6] → [4, 10, 18]\n",
    "print(\"Multiplication:\", a * b)\n",
    "\n",
    "# Apply sine function element-wise\n",
    "# sin(1), sin(2), sin(3) (in radians)\n",
    "print(\"Sine:\", np.sin(a))\n",
    "\n",
    "# Apply natural logarithm (base e) to each element\n",
    "# log(1) = 0, log(2), log(3)\n",
    "print(\"Log:\", np.log(a))\n"
   ]
  },
  {
   "cell_type": "markdown",
   "id": "44260fb5",
   "metadata": {},
   "source": [
    "## Broadcasting"
   ]
  },
  {
   "cell_type": "code",
   "execution_count": 32,
   "id": "38d96ed4",
   "metadata": {},
   "outputs": [
    {
     "name": "stdout",
     "output_type": "stream",
     "text": [
      "Broadcasted Addition:\n",
      " [[11 21 31]\n",
      " [12 22 32]\n",
      " [13 23 33]]\n"
     ]
    }
   ],
   "source": [
    "# Create a 2D array with shape (3,1) — 3 rows and 1 column\n",
    "a = np.array([[1],\n",
    "              [2],\n",
    "              [3]])\n",
    "\n",
    "# Create a 1D array with 3 elements (shape: (3,))\n",
    "b = np.array([10, 20, 30])\n",
    "\n",
    "# NumPy automatically \"broadcasts\" b across each row of a\n",
    "# Resulting in a 3x3 array where each row in 'a' is added to 'b':\n",
    "# Row 1: [1+10, 1+20, 1+30] → [11, 21, 31]\n",
    "# Row 2: [2+10, 2+20, 2+30] → [12, 22, 32]\n",
    "# Row 3: [3+10, 3+20, 3+30] → [13, 23, 33]\n",
    "\n",
    "print(\"Broadcasted Addition:\\n\", a + b)\n"
   ]
  },
  {
   "cell_type": "markdown",
   "id": "6c3d5815",
   "metadata": {},
   "source": [
    "## Aggregate Functions"
   ]
  },
  {
   "cell_type": "code",
   "execution_count": 33,
   "id": "8b236550",
   "metadata": {},
   "outputs": [
    {
     "name": "stdout",
     "output_type": "stream",
     "text": [
      "Sum: 10\n",
      "Max: 4\n",
      "Mean: 2.5\n",
      "Standard Deviation: 1.118033988749895\n"
     ]
    }
   ],
   "source": [
    "# Create a 2D NumPy array (2 rows × 2 columns)\n",
    "a = np.array([[1, 2],\n",
    "              [3, 4]])\n",
    "\n",
    "# Sum of all elements: 1 + 2 + 3 + 4 = 10\n",
    "print(\"Sum:\", np.sum(a))\n",
    "\n",
    "# Maximum value in the entire array: max(1, 2, 3, 4) = 4\n",
    "print(\"Max:\", np.max(a))\n",
    "\n",
    "# Mean (average) of all elements: (1 + 2 + 3 + 4) / 4 = 2.5\n",
    "print(\"Mean:\", np.mean(a))\n",
    "\n",
    "# Standard deviation (how spread out the numbers are)\n",
    "# Formula: sqrt(mean((x - mean)^2)) → for [1,2,3,4], std ≈ 1.118\n",
    "print(\"Standard Deviation:\", np.std(a))\n"
   ]
  },
  {
   "cell_type": "markdown",
   "id": "6ae9ad84",
   "metadata": {},
   "source": [
    "## Reshaping and Flattening"
   ]
  },
  {
   "cell_type": "code",
   "execution_count": 34,
   "id": "d1c5dc37",
   "metadata": {},
   "outputs": [
    {
     "name": "stdout",
     "output_type": "stream",
     "text": [
      "Reshaped Array:\n",
      " [[ 0  1  2  3]\n",
      " [ 4  5  6  7]\n",
      " [ 8  9 10 11]]\n",
      "Flattened: [ 0  1  2  3  4  5  6  7  8  9 10 11]\n"
     ]
    }
   ],
   "source": [
    "# Create a 1D NumPy array with 12 elements: [0, 1, 2, ..., 11]\n",
    "a = np.arange(12)\n",
    "\n",
    "# Reshape the 1D array into a 2D array with 3 rows and 4 columns\n",
    "# New shape: (3, 4)\n",
    "b = a.reshape((3, 4))\n",
    "print(\"Reshaped Array:\\n\", b)\n",
    "\n",
    "# Flatten the 2D array back into a 1D array\n",
    "# It reads row-wise (C-style): [0, 1, 2, ..., 11]\n",
    "print(\"Flattened:\", b.flatten())"
   ]
  },
  {
   "cell_type": "markdown",
   "id": "7764f0c8",
   "metadata": {},
   "source": [
    "## Stacking Arrays"
   ]
  },
  {
   "cell_type": "code",
   "execution_count": 35,
   "id": "afe2df94",
   "metadata": {},
   "outputs": [
    {
     "name": "stdout",
     "output_type": "stream",
     "text": [
      "Vertical Stack:\n",
      " [[1 2]\n",
      " [3 4]\n",
      " [5 6]]\n",
      "Horizontal Stack:\n",
      " [[1 2 1 2]\n",
      " [3 4 3 4]]\n"
     ]
    }
   ],
   "source": [
    "# Create a 2D NumPy array with shape (2, 2)\n",
    "a = np.array([[1, 2],\n",
    "              [3, 4]])\n",
    "\n",
    "# Create a second 2D array with shape (1, 2)\n",
    "b = np.array([[5, 6]])\n",
    "\n",
    "# Vertically stack arrays a and b\n",
    "# Stacking rows: a (2 rows) + b (1 row) → result will be (3, 2)\n",
    "print(\"Vertical Stack:\\n\", np.vstack([a, b]))\n",
    "\n",
    "# Horizontally stack array a with itself\n",
    "# Stacking columns side by side → result will be (2, 4)\n",
    "# [1, 2] + [1, 2] → [1, 2, 1, 2]\n",
    "# [3, 4] + [3, 4] → [3, 4, 3, 4]\n",
    "print(\"Horizontal Stack:\\n\", np.hstack([a, a]))\n"
   ]
  },
  {
   "cell_type": "markdown",
   "id": "b5192dc4",
   "metadata": {},
   "source": [
    "## Data Type Conversion"
   ]
  },
  {
   "cell_type": "code",
   "execution_count": 36,
   "id": "66df47ac",
   "metadata": {},
   "outputs": [
    {
     "name": "stdout",
     "output_type": "stream",
     "text": [
      "Original dtype: float64\n",
      "Converted to int: [1 2 3]\n"
     ]
    }
   ],
   "source": [
    "# Create a 1D NumPy array of floating-point numbers\n",
    "a = np.array([1.1, 2.2, 3.3])\n",
    "\n",
    "# Print the original data type of the array elements (float64)\n",
    "print(\"Original dtype:\", a.dtype)\n",
    "\n",
    "# Convert the float array to integer using astype()\n",
    "# This will truncate the decimal part (not round)\n",
    "b = a.astype(int)\n",
    "\n",
    "# Print the converted integer array: [1, 2, 3]\n",
    "print(\"Converted to int:\", b)"
   ]
  },
  {
   "cell_type": "markdown",
   "id": "9303e537",
   "metadata": {},
   "source": [
    "## Random Number Generation"
   ]
  },
  {
   "cell_type": "code",
   "execution_count": 37,
   "id": "5e51b2ab",
   "metadata": {},
   "outputs": [
    {
     "name": "stdout",
     "output_type": "stream",
     "text": [
      "Random Integer: [[8 5 9]\n",
      " [7 1 4]]\n",
      "Random Float: [[0.32615647 0.69294871 0.87444168]\n",
      " [0.9649856  0.96579638 0.05145104]]\n",
      "Normal Distribution: [[-0.33888374  0.08412282 -0.15218141]\n",
      " [-1.07526514  0.81816641 -1.13225337]]\n"
     ]
    }
   ],
   "source": [
    "import numpy as np\n",
    "\n",
    "# Generate a 2x3 array of random integers between 0 (inclusive) and 10 (exclusive)\n",
    "print(\"Random Integer:\", np.random.randint(0, 10, size=(2, 3)))\n",
    "\n",
    "# Generate a 2x3 array of random floats between 0.0 and 1.0 (uniform distribution)\n",
    "print(\"Random Float:\", np.random.rand(2, 3))\n",
    "\n",
    "# Generate a 2x3 array of random numbers from a standard normal distribution (mean=0, std=1)\n",
    "print(\"Normal Distribution:\", np.random.randn(2, 3))\n"
   ]
  },
  {
   "cell_type": "markdown",
   "id": "a03cc1f8",
   "metadata": {},
   "source": [
    "## Linear Algebra"
   ]
  },
  {
   "cell_type": "code",
   "execution_count": 38,
   "id": "fbfff5b3",
   "metadata": {},
   "outputs": [
    {
     "name": "stdout",
     "output_type": "stream",
     "text": [
      "Matrix Product:\n",
      " [[ 4  4]\n",
      " [10  8]]\n",
      "Transpose:\n",
      " [[1 3]\n",
      " [2 4]]\n",
      "Inverse:\n",
      " [[-2.   1. ]\n",
      " [ 1.5 -0.5]]\n"
     ]
    }
   ],
   "source": [
    "import numpy as np\n",
    "\n",
    "# Define two 2x2 matrices\n",
    "a = np.array([[1, 2],\n",
    "              [3, 4]])\n",
    "\n",
    "b = np.array([[2, 0],\n",
    "              [1, 2]])\n",
    "\n",
    "# Matrix multiplication (dot product)\n",
    "# Multiply rows of 'a' with columns of 'b'\n",
    "# Result is also a 2x2 matrix\n",
    "print(\"Matrix Product:\\n\", np.dot(a, b))\n",
    "\n",
    "# Transpose of matrix 'a'\n",
    "# Rows become columns: [[1, 3], [2, 4]]\n",
    "print(\"Transpose:\\n\", a.T)\n",
    "\n",
    "# Inverse of matrix 'a'\n",
    "# np.linalg.inv() computes the inverse if it's not singular\n",
    "print(\"Inverse:\\n\", np.linalg.inv(a))\n"
   ]
  },
  {
   "cell_type": "markdown",
   "id": "65764acd",
   "metadata": {},
   "source": [
    "## File I/O"
   ]
  },
  {
   "cell_type": "code",
   "execution_count": 39,
   "id": "c8d01c4a",
   "metadata": {},
   "outputs": [
    {
     "name": "stdout",
     "output_type": "stream",
     "text": [
      "Loaded from CSV:\n",
      " [[1. 2.]\n",
      " [3. 4.]]\n"
     ]
    }
   ],
   "source": [
    "import numpy as np\n",
    "\n",
    "# Example array\n",
    "a = np.array([[1, 2], [3, 4]])\n",
    "\n",
    "# Save the array 'a' to a CSV file named 'array.csv'\n",
    "# Each element will be written separated by a comma\n",
    "np.savetxt('array.csv', a, delimiter=',')\n",
    "\n",
    "# Load the array back from the saved CSV file\n",
    "loaded = np.loadtxt('array.csv', delimiter=',')\n",
    "\n",
    "# Display the loaded array to confirm it's the same as original\n",
    "print(\"Loaded from CSV:\\n\", loaded)\n"
   ]
  },
  {
   "cell_type": "markdown",
   "id": "38a13840",
   "metadata": {},
   "source": [
    "## Fancy Indexing and Boolean Masking"
   ]
  },
  {
   "cell_type": "code",
   "execution_count": 3,
   "id": "a3eeb5f4",
   "metadata": {},
   "outputs": [
    {
     "name": "stdout",
     "output_type": "stream",
     "text": [
      "Selected elements at indices 2, 4, 6: [2 4 6]\n",
      "Elements greater than 5: [6 7 8 9]\n"
     ]
    }
   ],
   "source": [
    "import numpy as np\n",
    "\n",
    "# Create an array of integers from 0 to 9\n",
    "a = np.arange(10)\n",
    "\n",
    "# Fancy indexing: select elements at specific indices\n",
    "selected = a[[2, 4, 6]]\n",
    "print(\"Selected elements at indices 2, 4, 6:\", selected)\n",
    "\n",
    "# Boolean masking: select elements greater than 5\n",
    "mask = a > 5\n",
    "filtered = a[mask]\n",
    "print(\"Elements greater than 5:\", filtered)\n"
   ]
  },
  {
   "cell_type": "markdown",
   "id": "161222b7",
   "metadata": {},
   "source": [
    "## Structured Arrays"
   ]
  },
  {
   "cell_type": "code",
   "execution_count": 4,
   "id": "be5c4fe2",
   "metadata": {},
   "outputs": [
    {
     "name": "stdout",
     "output_type": "stream",
     "text": [
      "Names: ['Alice' 'Bob']\n",
      "Ages: [25 30]\n"
     ]
    }
   ],
   "source": [
    "import numpy as np\n",
    "\n",
    "# Define a structured data type with fields 'name' (string), 'age' (int), and 'weight' (float)\n",
    "dtype = [('name', 'U10'), ('age', 'i4'), ('weight', 'f4')]\n",
    "\n",
    "# Create an array of structured data\n",
    "data = np.array([('Alice', 25, 55.0), ('Bob', 30, 85.5)], dtype=dtype)\n",
    "\n",
    "# Access the 'name' field\n",
    "names = data['name']\n",
    "print(\"Names:\", names)\n",
    "\n",
    "# Access the 'age' field\n",
    "ages = data['age']\n",
    "print(\"Ages:\", ages)\n"
   ]
  },
  {
   "cell_type": "markdown",
   "id": "0bc6d77f",
   "metadata": {},
   "source": [
    "## Masked Arrays"
   ]
  },
  {
   "cell_type": "code",
   "execution_count": 5,
   "id": "908d68d9",
   "metadata": {},
   "outputs": [
    {
     "name": "stdout",
     "output_type": "stream",
     "text": [
      "Masked array: [1.0 -- 3.0 --]\n"
     ]
    }
   ],
   "source": [
    "import numpy as np\n",
    "\n",
    "# Create an array with some invalid values\n",
    "data = np.array([1.0, np.nan, 3.0, np.inf])\n",
    "\n",
    "# Mask invalid (NaN or Inf) values\n",
    "masked_data = np.ma.masked_invalid(data)\n",
    "\n",
    "print(\"Masked array:\", masked_data)\n"
   ]
  },
  {
   "cell_type": "markdown",
   "id": "3299ef04",
   "metadata": {},
   "source": [
    "## Broadcasting with np.newaxis"
   ]
  },
  {
   "cell_type": "code",
   "execution_count": 6,
   "id": "ceafadbd",
   "metadata": {},
   "outputs": [
    {
     "name": "stdout",
     "output_type": "stream",
     "text": [
      "Broadcasted addition result:\n",
      " [[5 6 7]\n",
      " [6 7 8]\n",
      " [7 8 9]]\n"
     ]
    }
   ],
   "source": [
    "import numpy as np\n",
    "\n",
    "# Create a 1D array\n",
    "a = np.array([1, 2, 3])\n",
    "\n",
    "# Reshape 'a' to a column vector\n",
    "a_column = a[:, np.newaxis]\n",
    "\n",
    "# Create another 1D array\n",
    "b = np.array([4, 5, 6])\n",
    "\n",
    "# Add 'a_column' and 'b' using broadcasting\n",
    "result = a_column + b\n",
    "\n",
    "print(\"Broadcasted addition result:\\n\", result)\n"
   ]
  },
  {
   "cell_type": "markdown",
   "id": "0094dfbc",
   "metadata": {},
   "source": [
    "## Advanced Linear Algebra Operations"
   ]
  },
  {
   "cell_type": "code",
   "execution_count": 7,
   "id": "f92f9ba2",
   "metadata": {},
   "outputs": [
    {
     "name": "stdout",
     "output_type": "stream",
     "text": [
      "Determinant of A: -2.0000000000000004\n",
      "Inverse of A:\n",
      " [[-2.   1. ]\n",
      " [ 1.5 -0.5]]\n",
      "Eigenvalues: [-0.37228132  5.37228132]\n",
      "Eigenvectors:\n",
      " [[-0.82456484 -0.41597356]\n",
      " [ 0.56576746 -0.90937671]]\n"
     ]
    }
   ],
   "source": [
    "import numpy as np\n",
    "\n",
    "# Create a 2x2 matrix\n",
    "A = np.array([[1, 2], [3, 4]])\n",
    "\n",
    "# Compute the determinant\n",
    "det_A = np.linalg.det(A)\n",
    "print(\"Determinant of A:\", det_A)\n",
    "\n",
    "# Compute the inverse\n",
    "inv_A = np.linalg.inv(A)\n",
    "print(\"Inverse of A:\\n\", inv_A)\n",
    "\n",
    "# Compute eigenvalues and eigenvectors\n",
    "eigenvalues, eigenvectors = np.linalg.eig(A)\n",
    "print(\"Eigenvalues:\", eigenvalues)\n",
    "print(\"Eigenvectors:\\n\", eigenvectors)\n"
   ]
  },
  {
   "cell_type": "markdown",
   "id": "3c3be917",
   "metadata": {},
   "source": [
    "## Random Number Generation"
   ]
  },
  {
   "cell_type": "code",
   "execution_count": 8,
   "id": "06d61385",
   "metadata": {},
   "outputs": [
    {
     "name": "stdout",
     "output_type": "stream",
     "text": [
      "Random floats:\n",
      " [[0.5488135  0.71518937 0.60276338]\n",
      " [0.54488318 0.4236548  0.64589411]]\n",
      "Random integers:\n",
      " [[4 7 6]\n",
      " [8 8 1]]\n",
      "Random normals:\n",
      " [[0.14404357 1.45427351 0.76103773]\n",
      " [0.12167502 0.44386323 0.33367433]]\n"
     ]
    }
   ],
   "source": [
    "import numpy as np\n",
    "\n",
    "# Set a seed for reproducibility\n",
    "np.random.seed(0)\n",
    "\n",
    "# Generate a 2x3 array of random floats in [0.0, 1.0)\n",
    "random_floats = np.random.rand(2, 3)\n",
    "print(\"Random floats:\\n\", random_floats)\n",
    "\n",
    "# Generate a 2x3 array of random integers between 0 and 10\n",
    "random_ints = np.random.randint(0, 10, size=(2, 3))\n",
    "print(\"Random integers:\\n\", random_ints)\n",
    "\n",
    "# Generate a 2x3 array of samples from a standard normal distribution\n",
    "random_normals = np.random.randn(2, 3)\n",
    "print(\"Random normals:\\n\", random_normals)\n"
   ]
  },
  {
   "cell_type": "markdown",
   "id": "9a8fa9c4",
   "metadata": {},
   "source": [
    "## Performance Optimization with Vectorization"
   ]
  },
  {
   "cell_type": "code",
   "execution_count": 9,
   "id": "0e6e3f46",
   "metadata": {},
   "outputs": [
    {
     "name": "stdout",
     "output_type": "stream",
     "text": [
      "Vectorized addition took: 0.002999544143676758 seconds\n",
      "Loop addition took: 0.057985544204711914 seconds\n"
     ]
    }
   ],
   "source": [
    "import numpy as np\n",
    "import time\n",
    "\n",
    "# Create a large array\n",
    "a = np.arange(1e6)\n",
    "\n",
    "# Vectorized operation: add 10 to each element\n",
    "start_time = time.time()\n",
    "a_plus_10 = a + 10\n",
    "end_time = time.time()\n",
    "print(\"Vectorized addition took:\", end_time - start_time, \"seconds\")\n",
    "\n",
    "# Equivalent operation using a Python loop (slower)\n",
    "a_list = list(range(int(1e6)))\n",
    "start_time = time.time()\n",
    "a_plus_10_list = [x + 10 for x in a_list]\n",
    "end_time = time.time()\n",
    "print(\"Loop addition took:\", end_time - start_time, \"seconds\")\n"
   ]
  },
  {
   "cell_type": "markdown",
   "id": "9355e5ae",
   "metadata": {},
   "source": [
    "## Memory Mapping Large Files"
   ]
  },
  {
   "cell_type": "code",
   "execution_count": 10,
   "id": "475e8759",
   "metadata": {},
   "outputs": [
    {
     "name": "stdout",
     "output_type": "stream",
     "text": [
      "First 5 elements: [0. 1. 2. 3. 4.]\n"
     ]
    }
   ],
   "source": [
    "import numpy as np\n",
    "\n",
    "# Create a large array and save it to a binary file\n",
    "large_array = np.arange(1e7)\n",
    "large_array.tofile('large_array.dat')\n",
    "\n",
    "# Memory-map the binary file for reading\n",
    "mapped_array = np.memmap('large_array.dat', dtype='float64', mode='r', shape=(int(1e7),))\n",
    "\n",
    "# Access elements without loading the entire file into memory\n",
    "print(\"First 5 elements:\", mapped_array[:5])\n"
   ]
  }
 ],
 "metadata": {
  "kernelspec": {
   "display_name": "Python 3 (ipykernel)",
   "language": "python",
   "name": "python3"
  },
  "language_info": {
   "codemirror_mode": {
    "name": "ipython",
    "version": 3
   },
   "file_extension": ".py",
   "mimetype": "text/x-python",
   "name": "python",
   "nbconvert_exporter": "python",
   "pygments_lexer": "ipython3",
   "version": "3.9.13"
  }
 },
 "nbformat": 4,
 "nbformat_minor": 5
}
